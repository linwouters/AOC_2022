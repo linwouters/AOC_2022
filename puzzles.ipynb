{
 "cells": [
  {
   "cell_type": "code",
   "execution_count": null,
   "metadata": {},
   "outputs": [],
   "source": []
  },
  {
   "cell_type": "markdown",
   "metadata": {},
   "source": [
    "AOC 2022\n"
   ]
  },
  {
   "cell_type": "markdown",
   "metadata": {},
   "source": [
    "## Day 1"
   ]
  },
  {
   "cell_type": "code",
   "execution_count": 31,
   "metadata": {},
   "outputs": [],
   "source": [
    "def get_food_per_elf(filepath=\"data/data_day1_1.txt\"):\n",
    "    \"\"\"\n",
    "    Get the calories of the food items each elf is carrying.\n",
    "\n",
    "    input:\n",
    "    - filepath: path to the input data, consisting of food values\n",
    "    per line, where the food per elf is separated by a whiteline\n",
    "\n",
    "    output:\n",
    "    - a dictionary with the elf number as index and\n",
    "    a list of the calories per food item they carry.\n",
    "    \"\"\"\n",
    "\n",
    "    food_per_elf = {}\n",
    "    elf_idx = 0\n",
    "    food = []\n",
    "    with open(filepath) as f:\n",
    "        for line in f:\n",
    "            line = line.strip()\n",
    "            # Append value until there is a whiteline\n",
    "            if line != '':\n",
    "                food.append(int(line))\n",
    "            # Save values and continue to the next elf at the whiteline\n",
    "            else:\n",
    "                food_per_elf[elf_idx] = food\n",
    "                food = []\n",
    "                elf_idx += 1\n",
    "    food_per_elf[elf_idx] = food\n",
    "    \n",
    "    return food_per_elf\n",
    "\n",
    "    "
   ]
  },
  {
   "cell_type": "markdown",
   "metadata": {},
   "source": [
    "Day 1, star 1"
   ]
  },
  {
   "cell_type": "code",
   "execution_count": 45,
   "metadata": {},
   "outputs": [
    {
     "name": "stdout",
     "output_type": "stream",
     "text": [
      "Elf number 28 has the most calories, namely 71300\n"
     ]
    }
   ],
   "source": [
    "filepath=\"data/day1.txt\"\n",
    "filepath=\"data/test_day1.txt\"\n",
    "# filepath=\"tests/test_data/test_day1.txt\"\n",
    "\n",
    "# Create a dict with the elves number as key and a list of the calories of each food item they are carrying\n",
    "food_per_elf = get_food_per_elf(filepath)\n",
    "# Create a dict with the sum of the calories for each elf\n",
    "calories_per_elf = {key:sum(food_per_elf[key]) for key in (food_per_elf)}\n",
    "# Find the number of the elf carrying the most calories\n",
    "most_calories_elf = max(calories_per_elf, key=calories_per_elf.get)\n",
    "print(f\"Elf number {most_calories_elf} has the most calories, namely {calories_per_elf[most_calories_elf]}\")"
   ]
  },
  {
   "cell_type": "markdown",
   "metadata": {},
   "source": [
    "Day 1, Star 2"
   ]
  },
  {
   "cell_type": "code",
   "execution_count": 54,
   "metadata": {},
   "outputs": [
    {
     "name": "stdout",
     "output_type": "stream",
     "text": [
      "The three elves carrying the most calories carry in total 209691 calories\n"
     ]
    }
   ],
   "source": [
    "three_total = sum(sorted([calories_per_elf[key] for key in calories_per_elf])[-3:])\n",
    "print(f\"The three elves carrying the most calories carry in total {three_total} calories\")"
   ]
  },
  {
   "cell_type": "markdown",
   "metadata": {},
   "source": [
    "Day 1, combined stars"
   ]
  },
  {
   "cell_type": "code",
   "execution_count": 69,
   "metadata": {},
   "outputs": [],
   "source": [
    "def top_N_total_calories(filepath, N):\n",
    "    \"\"\"\n",
    "    Count the number of calories of the N elves that carry the most calories\n",
    "\n",
    "    input:\n",
    "    - filepath (str): path to the input data, consisting of food values\n",
    "    per line, where the food per elf is separated by a whiteline\n",
    "    - N (int): using the N number of elves who carry the most calories\n",
    "\n",
    "    output:\n",
    "    - Int: The sum of the calories of the N elves that carry the most calories\n",
    "    \"\"\"\n",
    "    food_totals = []\n",
    "    calories = 0\n",
    "    with open(filepath) as f:\n",
    "        for line in f:\n",
    "            line = line.strip()\n",
    "            # Append value until there is a whiteline\n",
    "            if line != '':\n",
    "                calories += int(line)\n",
    "            # Save sum of calories and continue to the next elf at the whiteline\n",
    "            else:\n",
    "                food_totals.append(calories)\n",
    "                calories = 0\n",
    "    if calories > 0:\n",
    "        food_totals.append(calories)\n",
    "\n",
    "    return sum(sorted(food_totals)[-N:])"
   ]
  },
  {
   "cell_type": "code",
   "execution_count": 70,
   "metadata": {},
   "outputs": [
    {
     "name": "stdout",
     "output_type": "stream",
     "text": [
      "The elf carrying the most calories carries in total 71300 calories\n",
      "The three elves carrying the most calories carry in total 209691 calories\n"
     ]
    }
   ],
   "source": [
    "filepath=\"data/day1.txt\"\n",
    "\n",
    "print(f\"The elf carrying the most calories carries in total {top_N_total_calories(filepath, 1)} calories\")\n",
    "print(f\"The three elves carrying the most calories carry in total {top_N_total_calories(filepath, 3)} calories\")"
   ]
  },
  {
   "cell_type": "markdown",
   "metadata": {},
   "source": [
    "## Day 2"
   ]
  },
  {
   "cell_type": "code",
   "execution_count": 94,
   "metadata": {},
   "outputs": [],
   "source": [
    "# The first column is what your opponent is going to play: A for Rock, B for Paper, and C for Scissors.\n",
    "# second column, you reason, must be what you should play in response: X for Rock, Y for Paper, and Z for Scissors\n",
    "def get_score_part1(opponent, yourself):\n",
    "    \"\"\"\n",
    "    Return the score for a single round, based on the opponents shape, and\n",
    "    your own shape.\n",
    "    The score is score for the shape you selected (1 for Rock, 2 for Paper, and 3 for Scissors)\n",
    "    plus the score for the outcome of the round (0 if you lost, 3 if the round was a draw, and 6 if you won)\n",
    "    Where rock=1, paper=2 and scissors=3\n",
    "    \"\"\"\n",
    "    # draw\n",
    "    if yourself == opponent:\n",
    "        return 3 + int(yourself)\n",
    "    # win\n",
    "    elif ((yourself == '1' and opponent == '3') or\n",
    "        (yourself == '2' and opponent == '1') or\n",
    "        (yourself == '3' and opponent == '2')):\n",
    "        return 6 + int(yourself)\n",
    "    # lose\n",
    "    else:\n",
    "        return int(yourself)\n",
    "    \n",
    "def get_score_part2(opponent, result):\n",
    "    \"\"\"\n",
    "    Return the score for a single round, based on the opponents shape, and\n",
    "    the result of the game (win, lose, draw)\n",
    "    The score is score for the shape you selected (1 for Rock, 2 for Paper, and 3 for Scissors)\n",
    "    plus the score for the outcome of the round (0 if you lost, 3 if the round was a draw, and 6 if you won)\n",
    "    Where rock=1, paper=2 and scissors=3,\n",
    "    lose=1, draw=2, win=3.\n",
    "    \"\"\"\n",
    "    # draw\n",
    "    if result == '2':\n",
    "        return 3 + int(opponent)\n",
    "    # win\n",
    "    elif result == '3':\n",
    "        if opponent == '1':\n",
    "            return 6 + 2\n",
    "        elif opponent == '2':\n",
    "            return 6 + 3\n",
    "        elif opponent == '3':\n",
    "            return 6 + 1\n",
    "    # lose\n",
    "    elif result == '1':\n",
    "        if opponent == '1':\n",
    "            return 3\n",
    "        elif opponent == '2':\n",
    "            return 1\n",
    "        elif opponent == '3':\n",
    "            return 2\n",
    "\n"
   ]
  },
  {
   "cell_type": "code",
   "execution_count": 96,
   "metadata": {},
   "outputs": [
    {
     "name": "stdout",
     "output_type": "stream",
     "text": [
      "The total score if everything goes right with the second column being your own shape would be: 15\n",
      "The total score if everything goes right with the second column being the result would be: 12\n"
     ]
    }
   ],
   "source": [
    "def get_scores(filepath):\n",
    "    filepath = \"data/test_day2.txt\"\n",
    "    # filepath = \"data/day2.txt\"\n",
    "\n",
    "    replace_dict = {'A': '1', 'B':'2', 'C':'3', 'X':'1', 'Y':'2', 'Z':'3'}\n",
    "    with open(filepath) as f:\n",
    "        file = f.read()\n",
    "        # Replace letters by their score\n",
    "        for letter, number in replace_dict.items():\n",
    "            file = file.replace(letter, number).strip()\n",
    "        # Add the score per round\n",
    "        score_1 = 0\n",
    "        score_2 = 0\n",
    "        for play in file.split('\\n'):\n",
    "            opponent, yourself = play.split(' ')\n",
    "            score_1 += get_score_part1(opponent, yourself)\n",
    "            score_2 += get_score_part2(opponent, yourself)\n",
    "\n",
    "    print(f\"The total score if everything goes right with the second column being your own shape would be: {score_1}\")\n",
    "    print(f\"The total score if everything goes right with the second column being the result would be: {score_2}\")"
   ]
  },
  {
   "cell_type": "markdown",
   "metadata": {},
   "source": [
    "## Day 3"
   ]
  },
  {
   "cell_type": "code",
   "execution_count": null,
   "metadata": {},
   "outputs": [],
   "source": [
    "filepath = \"data/test_day3.txt\"\n",
    "# filepath = \"data/day2.txt\"\n",
    "\n",
    "with open(filepath) as f:\n",
    "    file = f.read()\n",
    "    for line in f:\n",
    "        print(line)"
   ]
  }
 ],
 "metadata": {
  "kernelspec": {
   "display_name": "Python 3 (ipykernel)",
   "language": "python",
   "name": "python3"
  },
  "language_info": {
   "codemirror_mode": {
    "name": "ipython",
    "version": 3
   },
   "file_extension": ".py",
   "mimetype": "text/x-python",
   "name": "python",
   "nbconvert_exporter": "python",
   "pygments_lexer": "ipython3",
   "version": "3.10.4"
  },
  "vscode": {
   "interpreter": {
    "hash": "8fddff6aa986d2309d7e88e4831ac12f0012a905a06bbda3d2a114a36a9f10f3"
   }
  }
 },
 "nbformat": 4,
 "nbformat_minor": 2
}
